{
  "nbformat": 4,
  "nbformat_minor": 0,
  "metadata": {
    "colab": {
      "provenance": [],
      "include_colab_link": true
    },
    "kernelspec": {
      "name": "python3",
      "display_name": "Python 3"
    },
    "language_info": {
      "name": "python"
    }
  },
  "cells": [
    {
      "cell_type": "markdown",
      "metadata": {
        "id": "view-in-github",
        "colab_type": "text"
      },
      "source": [
        "<a href=\"https://colab.research.google.com/github/e0524018-stack/MED23CL202/blob/main/file_handeling.ipynb\" target=\"_parent\"><img src=\"https://colab.research.google.com/assets/colab-badge.svg\" alt=\"Open In Colab\"/></a>"
      ]
    },
    {
      "cell_type": "code",
      "execution_count": null,
      "metadata": {
        "colab": {
          "base_uri": "https://localhost:8080/"
        },
        "id": "AFB3xGM7z0TS",
        "outputId": "2c88d7a6-2a81-4135-c228-0295c4f44512"
      },
      "outputs": [
        {
          "output_type": "stream",
          "name": "stdout",
          "text": [
            "=== Example 1: read Entire File ===\n",
            "Hi hello\n"
          ]
        }
      ],
      "source": [
        "file_path =r\"/ss.txt\" # Using a sample file available in Colab\n",
        "\n",
        "print(\"=== Example 1: read Entire File ===\")\n",
        "with open(file_path,\"r\") as file:\n",
        " content = file.read()\n",
        " print(content)"
      ]
    },
    {
      "cell_type": "code",
      "source": [],
      "metadata": {
        "id": "UJoEMLku8J6G"
      },
      "execution_count": null,
      "outputs": []
    },
    {
      "cell_type": "code",
      "source": [
        "file_path =r\"/ss.txt\" # Using a sample file available in Colab\n",
        "\n",
        "print(\"=== Read line by line ===\")\n",
        "with open(file_path,\"r\") as file:\n",
        " for line in file:\n",
        "   print(\"Line from file:\",line.strip())"
      ],
      "metadata": {
        "colab": {
          "base_uri": "https://localhost:8080/"
        },
        "id": "mxMUbt2I5t-H",
        "outputId": "41e40027-655e-49cb-a709-7f455ae1ed98"
      },
      "execution_count": null,
      "outputs": [
        {
          "output_type": "stream",
          "name": "stdout",
          "text": [
            "=== Read line by line ===\n",
            "Line from file: Hi hello\n"
          ]
        }
      ]
    },
    {
      "cell_type": "markdown",
      "source": [
        "#READ SPECIFIC PARTS"
      ],
      "metadata": {
        "id": "FCHnQhVN8hz_"
      }
    },
    {
      "cell_type": "code",
      "source": [
        "file_path =r\"/ss.txt\" # Using a sample file available in Colab\n",
        "\n",
        "print(\"=== Read specific parts ===\")\n",
        "with open(file_path,\"r\") as file:\n",
        " first_line = file.readline()\n",
        " print(\"First line from file:\", first_line.strip())\n",
        " second_line = file.readline()\n",
        " print(\"Second line from the file:\", second_line.strip())"
      ],
      "metadata": {
        "colab": {
          "base_uri": "https://localhost:8080/"
        },
        "id": "oxR5gx9Y8o2-",
        "outputId": "2759add2-fe3c-46ab-f276-4b9f1d2edcbf"
      },
      "execution_count": null,
      "outputs": [
        {
          "output_type": "stream",
          "name": "stdout",
          "text": [
            "=== Read specific parts ===\n",
            "First line from file: Hi hello\n",
            "Second line from the file: \n"
          ]
        }
      ]
    },
    {
      "cell_type": "markdown",
      "source": [
        "#NEW LINE ADDING"
      ],
      "metadata": {
        "id": "CtRwlj5c_NZl"
      }
    },
    {
      "cell_type": "code",
      "source": [
        "file_path =r\"/ss.txt\" # Using a sample file available in Colab\n",
        "\n",
        "print(\"=== Adding new line ===\")\n",
        "with open(file_path,\"a\") as file:\n",
        "  file.write(\"This is second line.\\n\")\n",
        "print(\"New line appended successfully!!\")"
      ],
      "metadata": {
        "colab": {
          "base_uri": "https://localhost:8080/"
        },
        "id": "bh1Mt99r_XvN",
        "outputId": "8b7f97b0-be63-43e2-9b67-ce6e52f24e42"
      },
      "execution_count": null,
      "outputs": [
        {
          "output_type": "stream",
          "name": "stdout",
          "text": [
            "=== Adding new line ===\n",
            "New line appended successfully!!\n"
          ]
        }
      ]
    },
    {
      "cell_type": "markdown",
      "source": [
        "#ADDING MULTIPLE LINES"
      ],
      "metadata": {
        "id": "xBZT8wDkCptE"
      }
    },
    {
      "cell_type": "code",
      "source": [
        "file_path =r\"/ss.txt\"\n",
        "print(\"=== Adding new line ===\")\n",
        "lines = [\n",
        "    \"Line 1: this is first line.\\n\",\n",
        "    \"Line 2: this is second line.\\n\",\n",
        "    \"Line 3: this is third line.\\n\"\n",
        "]\n",
        "with open(file_path,\"a\") as file:\n",
        "    file.writelines(lines)\n",
        "print(\"Multiple lines printed successfully\")"
      ],
      "metadata": {
        "colab": {
          "base_uri": "https://localhost:8080/"
        },
        "id": "l0XRHu-JCv1Y",
        "outputId": "84ea617f-3ee9-439c-a328-114d9a4d1b19"
      },
      "execution_count": null,
      "outputs": [
        {
          "output_type": "stream",
          "name": "stdout",
          "text": [
            "=== Adding new line ===\n",
            "Multiple lines printed successfully\n"
          ]
        }
      ]
    },
    {
      "cell_type": "markdown",
      "source": [
        "#Tell and Seek"
      ],
      "metadata": {
        "id": "N6YNwuVlFM-s"
      }
    },
    {
      "cell_type": "code",
      "source": [
        "with open( \"/ss.txt\",\"r\") as f:\n",
        " print(f.tell())\n",
        " data = f.read(6)\n",
        " print(data)\n",
        " print(f.tell())"
      ],
      "metadata": {
        "colab": {
          "base_uri": "https://localhost:8080/"
        },
        "id": "rnGG6lBo8NyI",
        "outputId": "2e209e27-ef1e-4310-b897-1698c69da7a8"
      },
      "execution_count": 6,
      "outputs": [
        {
          "output_type": "stream",
          "name": "stdout",
          "text": [
            "0\n",
            "Hi hel\n",
            "6\n"
          ]
        }
      ]
    },
    {
      "cell_type": "markdown",
      "source": [],
      "metadata": {
        "id": "oAjOLzbm-Lm-"
      }
    },
    {
      "cell_type": "code",
      "source": [
        "with open( \"/ss.txt\",\"r\") as f:\n",
        " print(f.seek(0))\n",
        " data = f.read(6)\n",
        " print(data)\n",
        " print(f.tell())"
      ],
      "metadata": {
        "id": "KaHink93-MHi",
        "outputId": "39e03a2c-80a1-4483-df88-d6119ea17e9a",
        "colab": {
          "base_uri": "https://localhost:8080/"
        }
      },
      "execution_count": 8,
      "outputs": [
        {
          "output_type": "stream",
          "name": "stdout",
          "text": [
            "0\n",
            "Hi hel\n",
            "6\n"
          ]
        }
      ]
    },
    {
      "cell_type": "markdown",
      "source": [
        "#file name and mode"
      ],
      "metadata": {
        "id": "5vT-HoH4FSRp"
      }
    },
    {
      "cell_type": "code",
      "source": [
        "with open( \"/ss.txt\",\"w\") as f:\n",
        " print(f.readable())\n",
        " print(f.writable())\n",
        " print(f.seekable())\n",
        ""
      ],
      "metadata": {
        "colab": {
          "base_uri": "https://localhost:8080/"
        },
        "id": "1YHyps68-piq",
        "outputId": "f786d743-c552-4433-cd49-2e32001f3e14"
      },
      "execution_count": 10,
      "outputs": [
        {
          "output_type": "stream",
          "name": "stdout",
          "text": [
            "False\n",
            "True\n",
            "True\n"
          ]
        }
      ]
    },
    {
      "cell_type": "markdown",
      "source": [
        "#file Rename"
      ],
      "metadata": {
        "id": "dMGZeQ-BGYsz"
      }
    },
    {
      "cell_type": "code",
      "source": [
        "import os\n",
        "with open(\"ss.txt\", \"w\") as f:\n",
        "  f.write(\"this is a samo\")\n",
        "os.rename(\"ss.txt\", \"new.txt\")\n",
        "print(\"file renamed successfully\")\n",
        "os.remove(\"new.txt\")\n",
        "print(\"file removed successfully\")"
      ],
      "metadata": {
        "id": "1viiSvmgA93f",
        "outputId": "de27bce6-ebc6-4ae4-dd1b-50f7af876683",
        "colab": {
          "base_uri": "https://localhost:8080/"
        }
      },
      "execution_count": 12,
      "outputs": [
        {
          "output_type": "stream",
          "name": "stdout",
          "text": [
            "file renamed successfully\n",
            "file removed successfully\n"
          ]
        }
      ]
    }
  ]
}