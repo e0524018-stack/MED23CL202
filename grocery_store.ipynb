{
  "nbformat": 4,
  "nbformat_minor": 0,
  "metadata": {
    "colab": {
      "provenance": [],
      "authorship_tag": "ABX9TyO/XPvkf7YG3UDT6HsB5BUg",
      "include_colab_link": true
    },
    "kernelspec": {
      "name": "python3",
      "display_name": "Python 3"
    },
    "language_info": {
      "name": "python"
    }
  },
  "cells": [
    {
      "cell_type": "markdown",
      "metadata": {
        "id": "view-in-github",
        "colab_type": "text"
      },
      "source": [
        "<a href=\"https://colab.research.google.com/github/e0524018-stack/MED23CL202/blob/main/grocery_store.ipynb\" target=\"_parent\"><img src=\"https://colab.research.google.com/assets/colab-badge.svg\" alt=\"Open In Colab\"/></a>"
      ]
    },
    {
      "cell_type": "code",
      "execution_count": null,
      "metadata": {
        "colab": {
          "base_uri": "https://localhost:8080/"
        },
        "id": "FQIpQrXDrGff",
        "outputId": "25ad3bc6-3ff7-4fa1-8a4e-94873dd10e80"
      },
      "outputs": [
        {
          "output_type": "stream",
          "name": "stdout",
          "text": [
            "\n",
            "===== Grocery Store Menu =====\n",
            "1. Show available products\n",
            "2. Add item to cart\n",
            "3. Remove item from cart\n",
            "4. Show cart\n",
            "5. Show total cost\n",
            "6. Empty cart\n",
            "7. Exit\n",
            "=============================\n",
            "Enter choice (1-7): 2\n",
            "\n",
            "Available Products:\n",
            "Apple - ₹30\n",
            "Banana - ₹10\n",
            "Milk - ₹50\n",
            "Bread - ₹40\n",
            "Eggs - ₹60\n",
            "Enter item to add: apple\n",
            "Enter quantity: 2\n",
            "2 Apple(s) added to cart.\n",
            "\n",
            "===== Grocery Store Menu =====\n",
            "1. Show available products\n",
            "2. Add item to cart\n",
            "3. Remove item from cart\n",
            "4. Show cart\n",
            "5. Show total cost\n",
            "6. Empty cart\n",
            "7. Exit\n",
            "=============================\n",
            "Enter choice (1-7): 4\n",
            "\n",
            "Your Cart:\n",
            "Apple - 2 pcs - ₹60\n",
            "\n",
            "===== Grocery Store Menu =====\n",
            "1. Show available products\n",
            "2. Add item to cart\n",
            "3. Remove item from cart\n",
            "4. Show cart\n",
            "5. Show total cost\n",
            "6. Empty cart\n",
            "7. Exit\n",
            "=============================\n"
          ]
        }
      ],
      "source": [
        "# Grocery Store Checkout System\n",
        "\n",
        "# Available products with prices\n",
        "products = {\n",
        "    \"Apple\": 30,\n",
        "    \"Banana\": 10,\n",
        "    \"Milk\": 50,\n",
        "    \"Bread\": 40,\n",
        "    \"Eggs\": 60\n",
        "}\n",
        "\n",
        "# Empty cart\n",
        "cart = {}\n",
        "\n",
        "# Function to display menu\n",
        "def display_menu():\n",
        "    print(\"\\n===== Grocery Store Menu =====\")\n",
        "    print(\"1. Show available products\")\n",
        "    print(\"2. Add item to cart\")\n",
        "    print(\"3. Remove item from cart\")\n",
        "    print(\"4. Show cart\")\n",
        "    print(\"5. Show total cost\")\n",
        "    print(\"6. Empty cart\")\n",
        "    print(\"7. Exit\")\n",
        "    print(\"=============================\")\n",
        "\n",
        "# Show available products\n",
        "def show_products():\n",
        "    print(\"\\nAvailable Products:\")\n",
        "    for item, price in products.items():\n",
        "        print(f\"{item} - ₹{price}\")\n",
        "\n",
        "# Add item to cart\n",
        "def add_item():\n",
        "    show_products()\n",
        "    item = input(\"Enter item to add: \").capitalize()\n",
        "    if item in products:\n",
        "        qty = int(input(\"Enter quantity: \"))\n",
        "        if item in cart:\n",
        "            cart[item] += qty\n",
        "        else:\n",
        "            cart[item] = qty\n",
        "        print(f\"{qty} {item}(s) added to cart.\")\n",
        "    else:\n",
        "        print(\"Item not available!\")\n",
        "\n",
        "# Remove item from cart\n",
        "def remove_item():\n",
        "    if not cart:\n",
        "        print(\"Cart is empty!\")\n",
        "        return\n",
        "    print(\"\\nYour Cart:\", cart)\n",
        "    item = input(\"Enter item to remove: \").capitalize()\n",
        "    if item in cart:\n",
        "        qty = int(input(\"Enter quantity to remove: \"))\n",
        "        if qty >= cart[item]:\n",
        "            del cart[item]\n",
        "            print(f\"{item} removed from cart.\")\n",
        "        else:\n",
        "            cart[item] -= qty\n",
        "            print(f\"{qty} {item}(s) removed from cart.\")\n",
        "    else:\n",
        "        print(\"Item not in cart!\")\n",
        "\n",
        "# Show cart\n",
        "def show_cart():\n",
        "    if not cart:\n",
        "        print(\"Cart is empty!\")\n",
        "    else:\n",
        "        print(\"\\nYour Cart:\")\n",
        "        for item, qty in cart.items():\n",
        "            print(f\"{item} - {qty} pcs - ₹{products[item] * qty}\")\n",
        "\n",
        "# Show total cost\n",
        "def show_cost():\n",
        "    if not cart:\n",
        "        print(\"Cart is empty!\")\n",
        "    else:\n",
        "        total = sum(products[item] * qty for item, qty in cart.items())\n",
        "        print(f\"\\nTotal Cost: ₹{total}\")\n",
        "\n",
        "# Empty cart\n",
        "def empty_cart():\n",
        "    cart.clear()\n",
        "    print(\"Cart emptied successfully!\")\n",
        "\n",
        "# Main program\n",
        "while True:\n",
        "    display_menu()\n",
        "    choice = input(\"Enter choice (1-7): \")\n",
        "\n",
        "    if choice == \"1\":\n",
        "        show_products()\n",
        "    elif choice == \"2\":\n",
        "        add_item()\n",
        "    elif choice == \"3\":\n",
        "        remove_item()\n",
        "    elif choice == \"4\":\n",
        "        show_cart()\n",
        "    elif choice == \"5\":\n",
        "        show_cost()\n",
        "    elif choice == \"6\":\n",
        "        empty_cart()\n",
        "    elif choice == \"7\":\n",
        "        print(\"Thank you for shopping with us!\")\n",
        "        break\n",
        "    else:\n",
        "        print(\"Invalid choice! Try again.\")"
      ]
    },
    {
      "cell_type": "code",
      "source": [],
      "metadata": {
        "id": "H8cOcdGN9h94"
      },
      "execution_count": null,
      "outputs": []
    },
    {
      "cell_type": "code",
      "source": [],
      "metadata": {
        "id": "8exaYYo39qqx"
      },
      "execution_count": null,
      "outputs": []
    },
    {
      "cell_type": "markdown",
      "source": [
        "#Design grocery store checkout system usung list"
      ],
      "metadata": {
        "id": "zJNmqz9ifssO"
      }
    },
    {
      "cell_type": "code",
      "source": [
        "//objective : to design a menu driven application for Grocery store\n",
        "//checkout System using list\n",
        "//Open colab notebook\n"
      ],
      "metadata": {
        "id": "-q81aC-vf3oq"
      },
      "execution_count": null,
      "outputs": []
    },
    {
      "cell_type": "markdown",
      "source": [
        "/objective : to design a menu driven application for Grocery store\n",
        "//checkout System using list\n",
        "//Open colab notebook\n",
        "Go to file save a file in github\n",
        "A popup will appear"
      ],
      "metadata": {
        "id": "Wa9ojc4BhVZ6"
      }
    },
    {
      "cell_type": "code",
      "source": [],
      "metadata": {
        "id": "69WZ4NePhVFp"
      },
      "execution_count": null,
      "outputs": []
    },
    {
      "cell_type": "markdown",
      "source": [],
      "metadata": {
        "id": "NCjCfCr5hRLj"
      }
    },
    {
      "cell_type": "markdown",
      "source": [
        "open your colab note book\n",
        "go to file save a copy to git hub\n",
        "A popup will appear:\n",
        "select gitup repo\n",
        "choose a branch (default = main)\n",
        "click ok...it will be uploaded to github as a .ipynb file"
      ],
      "metadata": {
        "id": "jIxM0wB0iE_Q"
      }
    },
    {
      "cell_type": "markdown",
      "source": [
        "# New Section"
      ],
      "metadata": {
        "id": "Dqqa8ga49sXs"
      }
    }
  ]
}